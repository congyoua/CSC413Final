{
 "cells": [
  {
   "cell_type": "code",
   "execution_count": 94,
   "id": "0563a667",
   "metadata": {},
   "outputs": [],
   "source": [
    "import pandas as pd\n",
    "import torch\n",
    "from transformers import DistilBertForSequenceClassification, DistilBertTokenizer\n",
    "from sklearn.model_selection import train_test_split\n",
    "from torch.utils.data import Dataset\n",
    "from transformers.data.processors.utils import InputFeatures\n",
    "from sklearn.metrics import (accuracy_score, classification_report,\n",
    "                             confusion_matrix, f1_score, precision_score,\n",
    "                             recall_score)\n",
    "import numpy as np"
   ]
  },
  {
   "cell_type": "code",
   "execution_count": 95,
   "id": "e2572c31",
   "metadata": {},
   "outputs": [],
   "source": [
    "data = pd.read_csv(\"processed.csv\")\n",
    "train, test = train_test_split(data, test_size=0.3, random_state=42, stratify=data['emotion'] )\n",
    "train, val = train_test_split(train, test_size=0.2, random_state=42, stratify=train['emotion'] )\n",
    "\n",
    "emotion = pd.unique(data['emotion'])\n",
    "label_map = { v:i for i, v in enumerate(emotion) }"
   ]
  },
  {
   "cell_type": "code",
   "execution_count": 96,
   "id": "df1d1f40",
   "metadata": {},
   "outputs": [
    {
     "name": "stdout",
     "output_type": "stream",
     "text": [
      "There are 1 GPU(s) available.\n",
      "We will use the GPU: NVIDIA GeForce RTX 3070\n"
     ]
    }
   ],
   "source": [
    "# If there's a GPU available...\n",
    "if torch.cuda.is_available():    \n",
    "\n",
    "    # Tell PyTorch to use the GPU.    \n",
    "    device = torch.device(\"cuda\")\n",
    "\n",
    "    print('There are %d GPU(s) available.' % torch.cuda.device_count())\n",
    "\n",
    "    print('We will use the GPU:', torch.cuda.get_device_name(0))\n",
    "\n",
    "# If not...\n",
    "else:\n",
    "    print('No GPU available, using the CPU instead.')\n",
    "    device = torch.device(\"cpu\")"
   ]
  },
  {
   "cell_type": "code",
   "execution_count": 97,
   "id": "d7de60d1",
   "metadata": {},
   "outputs": [],
   "source": [
    "class ClassificationDataset(Dataset):\n",
    "    def __init__(self, text, target, label_map):\n",
    "        super(ClassificationDataset).__init__()\n",
    "        \"\"\"\n",
    "        Args:\n",
    "        text (List[str]): List of the training text\n",
    "        target (List[str]): List of the training labels\n",
    "        tokenizer_name (str): The tokenizer name (same as model_name).\n",
    "        max_len (int): Maximum sentence length\n",
    "        label_map (Dict[str,int]): A dictionary that maps the class labels to integer\n",
    "        \"\"\"\n",
    "        self.text = text\n",
    "        self.target = target\n",
    "        self.tokenizer = DistilBertTokenizer.from_pretrained(\"distilbert-base-uncased\")\n",
    "        self.max_len = 64\n",
    "        self.label_map = label_map\n",
    "      \n",
    "\n",
    "    def __len__(self):\n",
    "        return len(self.text)\n",
    "\n",
    "    def __getitem__(self,item):\n",
    "        text = str(self.text[item])\n",
    "        text = \" \".join(text.split())\n",
    "        \n",
    "        inputs = self.tokenizer(\n",
    "            text,\n",
    "            max_length=self.max_len,\n",
    "            padding='max_length',\n",
    "            truncation=True\n",
    "        )      \n",
    "        return InputFeatures(**inputs,label=self.label_map[self.target[item]])"
   ]
  },
  {
   "cell_type": "code",
   "execution_count": 98,
   "id": "8edf9c3e",
   "metadata": {},
   "outputs": [],
   "source": [
    "train_dataset = ClassificationDataset(\n",
    "    train[\"text\"].to_list(),\n",
    "    train[\"emotion\"].to_list(),\n",
    "    label_map\n",
    ")\n",
    "val_dataset = ClassificationDataset(\n",
    "    val[\"text\"].to_list(),\n",
    "    val[\"emotion\"].to_list(),\n",
    "    label_map\n",
    ")\n",
    "test_dataset = ClassificationDataset(\n",
    "    test[\"text\"].to_list(),\n",
    "    test[\"emotion\"].to_list(),\n",
    "    label_map\n",
    ")"
   ]
  },
  {
   "cell_type": "code",
   "execution_count": 99,
   "id": "d685ec5d",
   "metadata": {},
   "outputs": [
    {
     "name": "stderr",
     "output_type": "stream",
     "text": [
      "Some weights of the model checkpoint at distilbert-base-uncased were not used when initializing DistilBertForSequenceClassification: ['vocab_layer_norm.bias', 'vocab_projector.bias', 'vocab_projector.weight', 'vocab_transform.bias', 'vocab_layer_norm.weight', 'vocab_transform.weight']\n",
      "- This IS expected if you are initializing DistilBertForSequenceClassification from the checkpoint of a model trained on another task or with another architecture (e.g. initializing a BertForSequenceClassification model from a BertForPreTraining model).\n",
      "- This IS NOT expected if you are initializing DistilBertForSequenceClassification from the checkpoint of a model that you expect to be exactly identical (initializing a BertForSequenceClassification model from a BertForSequenceClassification model).\n",
      "Some weights of DistilBertForSequenceClassification were not initialized from the model checkpoint at distilbert-base-uncased and are newly initialized: ['classifier.weight', 'classifier.bias', 'pre_classifier.weight', 'pre_classifier.bias']\n",
      "You should probably TRAIN this model on a down-stream task to be able to use it for predictions and inference.\n"
     ]
    }
   ],
   "source": [
    "model = DistilBertForSequenceClassification.from_pretrained(\"distilbert-base-uncased\", \n",
    "                                                            return_dict=True, num_labels=len(label_map))"
   ]
  },
  {
   "cell_type": "code",
   "execution_count": 100,
   "id": "0f316646",
   "metadata": {},
   "outputs": [],
   "source": [
    "def compute_metrics(p): \n",
    "    preds = np.argmax(p.predictions, axis=1)\n",
    "    assert len(preds) == len(p.label_ids)\n",
    "    macro_f1 = f1_score(p.label_ids,preds,average='macro')\n",
    "    precision = precision_score(p.label_ids,preds,average='macro')\n",
    "    recall = recall_score(p.label_ids,preds,average='macro')\n",
    "    acc = accuracy_score(p.label_ids,preds)\n",
    "    return {       \n",
    "      'macro_f1' : macro_f1,\n",
    "      'Accuracy': acc,\n",
    "      'Precision': precision,\n",
    "      'Recall' : recall,\n",
    "}"
   ]
  },
  {
   "cell_type": "code",
   "execution_count": 101,
   "id": "c8f9f816",
   "metadata": {},
   "outputs": [],
   "source": [
    "from transformers import TrainingArguments, Trainer\n",
    "\n",
    "training_args = TrainingArguments( \n",
    "    output_dir= \"./train\",\n",
    "    adam_epsilon = 1e-8,\n",
    "    learning_rate = 2e-5,\n",
    "    per_device_train_batch_size = 32, # up to 64 on 16GB with max len of 128\n",
    "    per_device_eval_batch_size = 128,\n",
    "    gradient_accumulation_steps = 2, # use this to scale batch size without needing more memory\n",
    "    num_train_epochs= 6,\n",
    "    warmup_ratio = 0,\n",
    "    do_eval = True,\n",
    "    evaluation_strategy = 'epoch',\n",
    "    save_strategy = 'epoch',\n",
    "    load_best_model_at_end = True, \n",
    "    metric_for_best_model = 'macro_f1',\n",
    "    greater_is_better = True,\n",
    "    seed = 42\n",
    "  )"
   ]
  },
  {
   "cell_type": "code",
   "execution_count": 102,
   "id": "a271fe9f",
   "metadata": {},
   "outputs": [],
   "source": [
    "trainer = Trainer(\n",
    "    model=model,\n",
    "    args=training_args,\n",
    "    train_dataset=train_dataset,\n",
    "    eval_dataset=val_dataset,\n",
    "    compute_metrics=compute_metrics,\n",
    ")"
   ]
  },
  {
   "cell_type": "code",
   "execution_count": 10,
   "id": "b9c6e380",
   "metadata": {},
   "outputs": [
    {
     "name": "stderr",
     "output_type": "stream",
     "text": [
      "C:\\Users\\13995\\anaconda3\\envs\\Cuda\\lib\\site-packages\\transformers\\optimization.py:391: FutureWarning: This implementation of AdamW is deprecated and will be removed in a future version. Use the PyTorch implementation torch.optim.AdamW instead, or set `no_deprecation_warning=True` to disable this warning\n",
      "  warnings.warn(\n"
     ]
    },
    {
     "data": {
      "text/html": [
       "\n",
       "    <div>\n",
       "      \n",
       "      <progress value='1224' max='1224' style='width:300px; height:20px; vertical-align: middle;'></progress>\n",
       "      [1224/1224 02:17, Epoch 6/6]\n",
       "    </div>\n",
       "    <table border=\"1\" class=\"dataframe\">\n",
       "  <thead>\n",
       " <tr style=\"text-align: left;\">\n",
       "      <th>Epoch</th>\n",
       "      <th>Training Loss</th>\n",
       "      <th>Validation Loss</th>\n",
       "      <th>Macro F1</th>\n",
       "      <th>Accuracy</th>\n",
       "      <th>Precision</th>\n",
       "      <th>Recall</th>\n",
       "    </tr>\n",
       "  </thead>\n",
       "  <tbody>\n",
       "    <tr>\n",
       "      <td>1</td>\n",
       "      <td>No log</td>\n",
       "      <td>0.401548</td>\n",
       "      <td>0.734436</td>\n",
       "      <td>0.875306</td>\n",
       "      <td>0.796456</td>\n",
       "      <td>0.689396</td>\n",
       "    </tr>\n",
       "    <tr>\n",
       "      <td>2</td>\n",
       "      <td>No log</td>\n",
       "      <td>0.366139</td>\n",
       "      <td>0.765653</td>\n",
       "      <td>0.877451</td>\n",
       "      <td>0.808697</td>\n",
       "      <td>0.730388</td>\n",
       "    </tr>\n",
       "    <tr>\n",
       "      <td>3</td>\n",
       "      <td>0.448000</td>\n",
       "      <td>0.371782</td>\n",
       "      <td>0.774365</td>\n",
       "      <td>0.875919</td>\n",
       "      <td>0.773293</td>\n",
       "      <td>0.776125</td>\n",
       "    </tr>\n",
       "    <tr>\n",
       "      <td>4</td>\n",
       "      <td>0.448000</td>\n",
       "      <td>0.400540</td>\n",
       "      <td>0.768074</td>\n",
       "      <td>0.870711</td>\n",
       "      <td>0.762385</td>\n",
       "      <td>0.777989</td>\n",
       "    </tr>\n",
       "    <tr>\n",
       "      <td>5</td>\n",
       "      <td>0.185400</td>\n",
       "      <td>0.411523</td>\n",
       "      <td>0.762159</td>\n",
       "      <td>0.868566</td>\n",
       "      <td>0.758742</td>\n",
       "      <td>0.766629</td>\n",
       "    </tr>\n",
       "    <tr>\n",
       "      <td>6</td>\n",
       "      <td>0.185400</td>\n",
       "      <td>0.423151</td>\n",
       "      <td>0.764689</td>\n",
       "      <td>0.870098</td>\n",
       "      <td>0.762846</td>\n",
       "      <td>0.768018</td>\n",
       "    </tr>\n",
       "  </tbody>\n",
       "</table><p>"
      ],
      "text/plain": [
       "<IPython.core.display.HTML object>"
      ]
     },
     "metadata": {},
     "output_type": "display_data"
    },
    {
     "data": {
      "text/plain": [
       "TrainOutput(global_step=1224, training_loss=0.2827819141687131, metrics={'train_runtime': 139.14, 'train_samples_per_second': 562.915, 'train_steps_per_second': 8.797, 'total_flos': 1296991452833280.0, 'train_loss': 0.2827819141687131, 'epoch': 6.0})"
      ]
     },
     "execution_count": 10,
     "metadata": {},
     "output_type": "execute_result"
    }
   ],
   "source": [
    "trainer.train()"
   ]
  },
  {
   "cell_type": "code",
   "execution_count": null,
   "id": "ff189716",
   "metadata": {},
   "outputs": [],
   "source": [
    "# Data Augmentation section"
   ]
  },
  {
   "cell_type": "code",
   "execution_count": 110,
   "id": "e1d7df18",
   "metadata": {},
   "outputs": [],
   "source": [
    "from textattack.transformations import WordSwapEmbedding, WordSwapRandomCharacterDeletion, WordSwapQWERTY, CompositeTransformation, WordSwapContract, WordSwapExtend\n",
    "from textattack.constraints.pre_transformation import RepeatModification, StopwordModification\n",
    "from textattack.augmentation import Augmenter"
   ]
  },
  {
   "cell_type": "code",
   "execution_count": 125,
   "id": "373fb201",
   "metadata": {},
   "outputs": [
    {
     "name": "stdout",
     "output_type": "stream",
     "text": [
      "[\"This university is the best entity known to mankind, I don't want to superior.\"]\n"
     ]
    }
   ],
   "source": [
    "# Set up transformations to apply to the text\n",
    "# WordSwapQWERTY swaps letters with their QWERTY neighbors\n",
    "# WordSwapRandomCharacterDeletion deletes random characters\n",
    "# WordSwapContract contracts words (e.g. \"I'm\" -> \"I am\")\n",
    "# WordSwapExtend extends words (e.g. \"I am\" -> \"I'm\")\n",
    "transformations = CompositeTransformation([WordSwapQWERTY(), WordSwapContract(), WordSwapExtend(), WordSwapEmbedding()])\n",
    "\n",
    "# Set up constraints to avoid modifying the same word multiple times and to prevent the replacement of stopwords\n",
    "constraints = [RepeatModification(), StopwordModification()]\n",
    "# Create an augmenter instance with the chosen transformation and constraints\n",
    "augmenter = Augmenter(transformation=transformations, constraints=constraints, pct_words_to_swap=0.2, transformations_per_example=1)\n",
    "\n",
    "\n",
    "# additional parameters\n",
    "augmenter.enable_advanced_metrics = False # Set to True to get more metrics\n",
    "augmenter.fast_augment = True\n",
    "# Set to True to get more augmented examples\n",
    "augmenter.high_yield = False\n",
    "\n",
    "# Example:\n",
    "s = \"This university is the best institution known to mankind, I don't want to graduate.\"\n",
    "s_res = augmenter.augment(s)\n",
    "print(s_res)\n"
   ]
  },
  {
   "cell_type": "code",
   "execution_count": 108,
   "id": "7be099a3",
   "metadata": {},
   "outputs": [],
   "source": [
    "text = train_dataset.text\n",
    "\n",
    "# Initialize a list to store the augmented data\n",
    "augmented_text_list = []\n",
    "# Iterate over each text sample in the list and generate augmented samples\n",
    "for original in text:\n",
    "    try:\n",
    "        augmented_text = augmenter.augment(original)\n",
    "    except:\n",
    "        augmented_text_list.append(original)\n",
    "        continue\n",
    "    augmented_text_list.append(augmented_text[0])\n",
    "\n",
    "augmented_dataset = ClassificationDataset(\n",
    "    augmented_text_list,\n",
    "    train_dataset.target,\n",
    "    label_map\n",
    ")\n",
    "\n",
    "\n",
    "    "
   ]
  }
 ],
 "metadata": {
  "kernelspec": {
   "display_name": "Python 3 (ipykernel)",
   "language": "python",
   "name": "python3"
  },
  "language_info": {
   "codemirror_mode": {
    "name": "ipython",
    "version": 3
   },
   "file_extension": ".py",
   "mimetype": "text/x-python",
   "name": "python",
   "nbconvert_exporter": "python",
   "pygments_lexer": "ipython3",
   "version": "3.10.7"
  },
  "varInspector": {
   "cols": {
    "lenName": 16,
    "lenType": 16,
    "lenVar": 40
   },
   "kernels_config": {
    "python": {
     "delete_cmd_postfix": "",
     "delete_cmd_prefix": "del ",
     "library": "var_list.py",
     "varRefreshCmd": "print(var_dic_list())"
    },
    "r": {
     "delete_cmd_postfix": ") ",
     "delete_cmd_prefix": "rm(",
     "library": "var_list.r",
     "varRefreshCmd": "cat(var_dic_list()) "
    }
   },
   "types_to_exclude": [
    "module",
    "function",
    "builtin_function_or_method",
    "instance",
    "_Feature"
   ],
   "window_display": false
  }
 },
 "nbformat": 4,
 "nbformat_minor": 5
}
