{
 "cells": [
  {
   "cell_type": "code",
   "execution_count": 1,
   "id": "0563a667",
   "metadata": {},
   "outputs": [],
   "source": [
    "import pandas as pd\n",
    "import torch\n",
    "from transformers import DistilBertForSequenceClassification, DistilBertModel, DistilBertTokenizer, DistilBertConfig, EarlyStoppingCallback, TrainingArguments, Trainer\n",
    "from torch.utils.data import Dataset\n",
    "from transformers.data.processors.utils import InputFeatures\n",
    "from sklearn.model_selection import train_test_split\n",
    "from sklearn.metrics import accuracy_score, classification_report, confusion_matrix, f1_score, precision_score, recall_score, ConfusionMatrixDisplay\n",
    "import numpy as np\n",
    "import torch.nn as nn\n",
    "import torch.nn.functional as F\n",
    "import matplotlib.pyplot as plt"
   ]
  },
  {
   "cell_type": "markdown",
   "id": "9f968ee9",
   "metadata": {},
   "source": [
    "# Data transformation"
   ]
  },
  {
   "cell_type": "code",
   "execution_count": 2,
   "id": "e2572c31",
   "metadata": {},
   "outputs": [],
   "source": [
    "# Read training, validation, and test data\n",
    "train = pd.read_csv(\"processed_train.tsv\", sep='\\t')\n",
    "val = pd.read_csv(\"processed_val.tsv\", sep='\\t')\n",
    "test = pd.read_csv(\"processed_test.tsv\", sep='\\t')\n",
    "\n",
    "emotion = pd.unique(train['emotion'])\n",
    "label_map = { v:i for i, v in enumerate(emotion) }"
   ]
  },
  {
   "cell_type": "code",
   "execution_count": 3,
   "id": "df1d1f40",
   "metadata": {},
   "outputs": [],
   "source": [
    "# Use cuda if it's available\n",
    "if torch.cuda.is_available():      \n",
    "    device = torch.device(\"cuda\")\n",
    "else:\n",
    "    device = torch.device(\"cpu\")"
   ]
  },
  {
   "cell_type": "code",
   "execution_count": 4,
   "id": "d7de60d1",
   "metadata": {},
   "outputs": [],
   "source": [
    "# Preparing dataset for the distilBert model\n",
    "class ClassificationDataset(Dataset):\n",
    "    def __init__(self, text, target, label_map):\n",
    "        super(ClassificationDataset).__init__()\n",
    "        self.text = text\n",
    "        self.target = target\n",
    "        self.tokenizer = DistilBertTokenizer.from_pretrained(\"distilbert-base-uncased\")\n",
    "        self.max_len = 64\n",
    "        self.label_map = label_map\n",
    "      \n",
    "    def __len__(self):\n",
    "        return len(self.text)\n",
    "\n",
    "    def __getitem__(self,item):\n",
    "        text = str(self.text[item])\n",
    "        text = \" \".join(text.split())\n",
    "        \n",
    "        inputs = self.tokenizer(\n",
    "            text,\n",
    "            max_length=self.max_len,\n",
    "            padding='max_length',\n",
    "            truncation=True\n",
    "        )      \n",
    "        return InputFeatures(**inputs,label=self.label_map[self.target[item]])"
   ]
  },
  {
   "cell_type": "code",
   "execution_count": 5,
   "id": "8edf9c3e",
   "metadata": {},
   "outputs": [],
   "source": [
    "train_dataset = ClassificationDataset(\n",
    "    train[\"text\"].to_list(),\n",
    "    train[\"emotion\"].to_list(),\n",
    "    label_map\n",
    ")\n",
    "val_dataset = ClassificationDataset(\n",
    "    val[\"text\"].to_list(),\n",
    "    val[\"emotion\"].to_list(),\n",
    "    label_map\n",
    ")\n",
    "test_dataset = ClassificationDataset(\n",
    "    test[\"text\"].to_list(),\n",
    "    test[\"emotion\"].to_list(),\n",
    "    label_map\n",
    ")"
   ]
  },
  {
   "cell_type": "markdown",
   "id": "f3ba457a",
   "metadata": {},
   "source": [
    "# Model building"
   ]
  },
  {
   "cell_type": "code",
   "execution_count": 6,
   "id": "354cf688",
   "metadata": {},
   "outputs": [],
   "source": [
    "# Modified version of the focal loss provided by pytorch\n",
    "def softmax_focal_loss_with_regularization(inputs, targets, model, alpha = None, gamma = 2, reduction = \"none\", reg_type: str = \"l2\", reg_weight: float = 1e-3):\n",
    "    ce_loss = F.cross_entropy(inputs, targets, reduction=\"none\")\n",
    "    p = torch.exp(-ce_loss)\n",
    "    loss = ce_loss * ((1 - p) ** gamma)\n",
    "    \n",
    "    # Alpha weighting for different classes\n",
    "    if alpha is not None:\n",
    "        batch_size, num_classes = inputs.size()\n",
    "        class_mask = torch.zeros((batch_size, num_classes), device=inputs.device)\n",
    "        class_mask.scatter_(1, targets.unsqueeze(1), 1.)\n",
    "        alpha_t = torch.sum(alpha.to(inputs.device) * class_mask.to(inputs.device), dim=1)\n",
    "        loss = alpha_t * loss\n",
    "    \n",
    "    # L1/L2 regularization\n",
    "    reg_loss = 0\n",
    "    for param in model.parameters():\n",
    "        if reg_type == \"l1\":\n",
    "            reg_loss += torch.sum(torch.abs(param))\n",
    "        else:\n",
    "            reg_loss += torch.sum(param ** 2)\n",
    "    loss = loss + reg_weight * reg_loss\n",
    "\n",
    "    if reduction == \"none\":\n",
    "        pass\n",
    "    elif reduction == \"mean\":\n",
    "        loss = loss.mean()\n",
    "    elif reduction == \"sum\":\n",
    "        loss = loss.sum()\n",
    "    else:\n",
    "        raise ValueError(f\"Invalid Value for arg 'reduction': '{reduction} \\\\n Supported reduction modes: 'none', 'mean', 'sum'\")\n",
    "    \n",
    "    return loss"
   ]
  },
  {
   "cell_type": "code",
   "execution_count": 7,
   "id": "d685ec5d",
   "metadata": {},
   "outputs": [
    {
     "name": "stderr",
     "output_type": "stream",
     "text": [
      "Some weights of the model checkpoint at distilbert-base-uncased were not used when initializing DistilBertModel: ['vocab_projector.weight', 'vocab_projector.bias', 'vocab_transform.bias', 'vocab_transform.weight', 'vocab_layer_norm.bias', 'vocab_layer_norm.weight']\n",
      "- This IS expected if you are initializing DistilBertModel from the checkpoint of a model trained on another task or with another architecture (e.g. initializing a BertForSequenceClassification model from a BertForPreTraining model).\n",
      "- This IS NOT expected if you are initializing DistilBertModel from the checkpoint of a model that you expect to be exactly identical (initializing a BertForSequenceClassification model from a BertForSequenceClassification model).\n"
     ]
    }
   ],
   "source": [
    "# New model for fine-tuning\n",
    "class CustomSequenceClassificationModel(nn.Module):\n",
    "    def __init__(self):\n",
    "        super().__init__()\n",
    "        self.distilbert = DistilBertModel.from_pretrained('distilbert-base-uncased')\n",
    "        self.pre_classifier = nn.Linear(self.distilbert.config.dim, 128)\n",
    "        self.dropout = nn.Dropout(0.2)\n",
    "        self.classifier1 = nn.Linear(128, 64)\n",
    "        self.classifier2 = nn.Linear(64, 5)\n",
    "\n",
    "    def forward(self, input_ids, attention_mask=None, labels=None):\n",
    "        distilbert_output = self.distilbert(input_ids=input_ids, attention_mask=attention_mask)\n",
    "        hidden_state = distilbert_output[0]\n",
    "        out = hidden_state[:, 0]\n",
    "        out = self.pre_classifier(out)\n",
    "        out = nn.ReLU()(out)\n",
    "        out = self.dropout(out)\n",
    "        out = self.classifier1(out)\n",
    "        out = nn.ReLU()(out)\n",
    "        out = self.dropout(out)\n",
    "        logits = self.classifier2(out)\n",
    "        # Weighted loss\n",
    "        #weights = torch.tensor([0.00045, 0.00321, 0.00321, 0.00321, 0.00321]).to(device)\n",
    "        # Cross-Entropy loss\n",
    "        loss_fct = nn.CrossEntropyLoss()\n",
    "        loss = loss_fct(logits.view(-1, 5), labels.view(-1))\n",
    "        \n",
    "        # L1 regularization\n",
    "        '''\n",
    "        reg_weight = 1e-3\n",
    "        l1_reg = 0\n",
    "        for param in self.parameters():\n",
    "            l1_reg += torch.sum(torch.abs(param))\n",
    "        loss = loss + reg_weight * l1_reg\n",
    "        '''\n",
    "        # Focal loss\n",
    "        '''\n",
    "        alpha = torch.tensor([0.1, 0.4, 0.4, 0.4, 0.4])\n",
    "        loss = softmax_focal_loss_with_regularization(logits.view(-1, 5), labels.view(-1), self, alpha=alpha)\n",
    "        '''\n",
    "        return (loss.mean(), logits)\n",
    "    \n",
    "model = CustomSequenceClassificationModel()\n",
    "# Use the distilBert model from Huggingface\n",
    "#num_labels = 5\n",
    "#model = DistilBertForSequenceClassification.from_pretrained(\"distilbert-base-uncased\", num_labels=num_labels)"
   ]
  },
  {
   "cell_type": "markdown",
   "id": "90ec9067",
   "metadata": {},
   "source": [
    "# Model training"
   ]
  },
  {
   "cell_type": "code",
   "execution_count": 8,
   "id": "0f316646",
   "metadata": {},
   "outputs": [],
   "source": [
    "# Metrics for evaluation\n",
    "def compute_metrics(p): \n",
    "    preds = np.argmax(p.predictions, axis=1)\n",
    "    macro_f1 = f1_score(p.label_ids,preds,average='macro')\n",
    "    precision = precision_score(p.label_ids,preds,average='macro', zero_division=1)\n",
    "    recall = recall_score(p.label_ids,preds,average='macro')\n",
    "    acc = accuracy_score(p.label_ids,preds)\n",
    "    return {       \n",
    "      'macro_f1' : macro_f1,\n",
    "      'Validation accuracy': acc,\n",
    "      'Precision': precision,\n",
    "      'Recall' : recall,\n",
    "}"
   ]
  },
  {
   "cell_type": "code",
   "execution_count": 9,
   "id": "c8f9f816",
   "metadata": {},
   "outputs": [],
   "source": [
    "# Huggingface trainer config\n",
    "training_args = TrainingArguments( \n",
    "    output_dir= \"./train\",    \n",
    "    adam_epsilon = 1e-8,\n",
    "    learning_rate = 2e-5,\n",
    "    per_device_train_batch_size = 16, # set to 16 due to memory issue\n",
    "    per_device_eval_batch_size = 128,\n",
    "    gradient_accumulation_steps = 2, # use this to scale batch size without needing more memory\n",
    "    num_train_epochs= 4,\n",
    "    evaluation_strategy = 'steps',\n",
    "    save_strategy = 'steps',\n",
    "    load_best_model_at_end = True,\n",
    "    metric_for_best_model = 'macro_f1',\n",
    "    greater_is_better = True,\n",
    "    seed = 42,\n",
    "    weight_decay=0.0001, # Weight decay for regularization\n",
    "    logging_steps=100,\n",
    "  )"
   ]
  },
  {
   "cell_type": "code",
   "execution_count": 10,
   "id": "a271fe9f",
   "metadata": {},
   "outputs": [],
   "source": [
    "# Early stopping to prevent overfitting\n",
    "early_stopping_callback = EarlyStoppingCallback(\n",
    "    early_stopping_patience=3,\n",
    "    early_stopping_threshold=0.01,\n",
    ")\n",
    "\n",
    "# Huggingface Trainer class\n",
    "trainer = Trainer(\n",
    "    model=model,\n",
    "    args=training_args,\n",
    "    train_dataset=train_dataset,\n",
    "    eval_dataset=val_dataset,\n",
    "    compute_metrics=compute_metrics,\n",
    "    #callbacks=[early_stopping_callback]\n",
    ")"
   ]
  },
  {
   "cell_type": "code",
   "execution_count": 11,
   "id": "9ab93275",
   "metadata": {},
   "outputs": [
    {
     "name": "stderr",
     "output_type": "stream",
     "text": [
      "C:\\Users\\13995\\anaconda3\\envs\\Cuda\\lib\\site-packages\\transformers\\optimization.py:391: FutureWarning: This implementation of AdamW is deprecated and will be removed in a future version. Use the PyTorch implementation torch.optim.AdamW instead, or set `no_deprecation_warning=True` to disable this warning\n",
      "  warnings.warn(\n"
     ]
    },
    {
     "data": {
      "text/html": [
       "\n",
       "    <div>\n",
       "      \n",
       "      <progress value='2344' max='2344' style='width:300px; height:20px; vertical-align: middle;'></progress>\n",
       "      [2344/2344 03:08, Epoch 3/4]\n",
       "    </div>\n",
       "    <table border=\"1\" class=\"dataframe\">\n",
       "  <thead>\n",
       " <tr style=\"text-align: left;\">\n",
       "      <th>Step</th>\n",
       "      <th>Training Loss</th>\n",
       "      <th>Validation Loss</th>\n",
       "      <th>Macro F1</th>\n",
       "      <th>Validation accuracy</th>\n",
       "      <th>Precision</th>\n",
       "      <th>Recall</th>\n",
       "    </tr>\n",
       "  </thead>\n",
       "  <tbody>\n",
       "    <tr>\n",
       "      <td>100</td>\n",
       "      <td>1.424400</td>\n",
       "      <td>1.024602</td>\n",
       "      <td>0.186535</td>\n",
       "      <td>0.755208</td>\n",
       "      <td>0.950906</td>\n",
       "      <td>0.207531</td>\n",
       "    </tr>\n",
       "    <tr>\n",
       "      <td>200</td>\n",
       "      <td>1.096600</td>\n",
       "      <td>0.726880</td>\n",
       "      <td>0.545766</td>\n",
       "      <td>0.826900</td>\n",
       "      <td>0.760700</td>\n",
       "      <td>0.541202</td>\n",
       "    </tr>\n",
       "    <tr>\n",
       "      <td>300</td>\n",
       "      <td>0.884900</td>\n",
       "      <td>0.639474</td>\n",
       "      <td>0.552787</td>\n",
       "      <td>0.812806</td>\n",
       "      <td>0.715694</td>\n",
       "      <td>0.605432</td>\n",
       "    </tr>\n",
       "    <tr>\n",
       "      <td>400</td>\n",
       "      <td>0.769200</td>\n",
       "      <td>0.524735</td>\n",
       "      <td>0.629555</td>\n",
       "      <td>0.852022</td>\n",
       "      <td>0.795990</td>\n",
       "      <td>0.578430</td>\n",
       "    </tr>\n",
       "    <tr>\n",
       "      <td>500</td>\n",
       "      <td>0.706200</td>\n",
       "      <td>0.502880</td>\n",
       "      <td>0.676418</td>\n",
       "      <td>0.846201</td>\n",
       "      <td>0.738037</td>\n",
       "      <td>0.671946</td>\n",
       "    </tr>\n",
       "    <tr>\n",
       "      <td>600</td>\n",
       "      <td>0.660700</td>\n",
       "      <td>0.466968</td>\n",
       "      <td>0.739239</td>\n",
       "      <td>0.861520</td>\n",
       "      <td>0.762629</td>\n",
       "      <td>0.719782</td>\n",
       "    </tr>\n",
       "    <tr>\n",
       "      <td>700</td>\n",
       "      <td>0.572300</td>\n",
       "      <td>0.514499</td>\n",
       "      <td>0.717022</td>\n",
       "      <td>0.831801</td>\n",
       "      <td>0.689483</td>\n",
       "      <td>0.752495</td>\n",
       "    </tr>\n",
       "    <tr>\n",
       "      <td>800</td>\n",
       "      <td>0.507700</td>\n",
       "      <td>0.447166</td>\n",
       "      <td>0.736396</td>\n",
       "      <td>0.860294</td>\n",
       "      <td>0.753074</td>\n",
       "      <td>0.721900</td>\n",
       "    </tr>\n",
       "    <tr>\n",
       "      <td>900</td>\n",
       "      <td>0.502900</td>\n",
       "      <td>0.464877</td>\n",
       "      <td>0.738079</td>\n",
       "      <td>0.849571</td>\n",
       "      <td>0.718415</td>\n",
       "      <td>0.760285</td>\n",
       "    </tr>\n",
       "    <tr>\n",
       "      <td>1000</td>\n",
       "      <td>0.470400</td>\n",
       "      <td>0.419802</td>\n",
       "      <td>0.751956</td>\n",
       "      <td>0.867341</td>\n",
       "      <td>0.780252</td>\n",
       "      <td>0.727117</td>\n",
       "    </tr>\n",
       "    <tr>\n",
       "      <td>1100</td>\n",
       "      <td>0.451000</td>\n",
       "      <td>0.436729</td>\n",
       "      <td>0.738635</td>\n",
       "      <td>0.854473</td>\n",
       "      <td>0.737016</td>\n",
       "      <td>0.742997</td>\n",
       "    </tr>\n",
       "    <tr>\n",
       "      <td>1200</td>\n",
       "      <td>0.410700</td>\n",
       "      <td>0.448519</td>\n",
       "      <td>0.740701</td>\n",
       "      <td>0.852635</td>\n",
       "      <td>0.724304</td>\n",
       "      <td>0.760057</td>\n",
       "    </tr>\n",
       "    <tr>\n",
       "      <td>1300</td>\n",
       "      <td>0.375600</td>\n",
       "      <td>0.451862</td>\n",
       "      <td>0.748300</td>\n",
       "      <td>0.855392</td>\n",
       "      <td>0.734010</td>\n",
       "      <td>0.764595</td>\n",
       "    </tr>\n",
       "    <tr>\n",
       "      <td>1400</td>\n",
       "      <td>0.344100</td>\n",
       "      <td>0.475239</td>\n",
       "      <td>0.740630</td>\n",
       "      <td>0.847733</td>\n",
       "      <td>0.709653</td>\n",
       "      <td>0.778969</td>\n",
       "    </tr>\n",
       "    <tr>\n",
       "      <td>1500</td>\n",
       "      <td>0.376900</td>\n",
       "      <td>0.443726</td>\n",
       "      <td>0.754093</td>\n",
       "      <td>0.864890</td>\n",
       "      <td>0.767240</td>\n",
       "      <td>0.743136</td>\n",
       "    </tr>\n",
       "    <tr>\n",
       "      <td>1600</td>\n",
       "      <td>0.310000</td>\n",
       "      <td>0.479486</td>\n",
       "      <td>0.748737</td>\n",
       "      <td>0.850797</td>\n",
       "      <td>0.731966</td>\n",
       "      <td>0.770831</td>\n",
       "    </tr>\n",
       "    <tr>\n",
       "      <td>1700</td>\n",
       "      <td>0.349500</td>\n",
       "      <td>0.444203</td>\n",
       "      <td>0.752134</td>\n",
       "      <td>0.861520</td>\n",
       "      <td>0.764536</td>\n",
       "      <td>0.742464</td>\n",
       "    </tr>\n",
       "    <tr>\n",
       "      <td>1800</td>\n",
       "      <td>0.304500</td>\n",
       "      <td>0.456419</td>\n",
       "      <td>0.754068</td>\n",
       "      <td>0.861213</td>\n",
       "      <td>0.746832</td>\n",
       "      <td>0.761787</td>\n",
       "    </tr>\n",
       "    <tr>\n",
       "      <td>1900</td>\n",
       "      <td>0.263000</td>\n",
       "      <td>0.470447</td>\n",
       "      <td>0.752685</td>\n",
       "      <td>0.857843</td>\n",
       "      <td>0.739232</td>\n",
       "      <td>0.768456</td>\n",
       "    </tr>\n",
       "    <tr>\n",
       "      <td>2000</td>\n",
       "      <td>0.275100</td>\n",
       "      <td>0.474313</td>\n",
       "      <td>0.752951</td>\n",
       "      <td>0.858150</td>\n",
       "      <td>0.738142</td>\n",
       "      <td>0.768988</td>\n",
       "    </tr>\n",
       "    <tr>\n",
       "      <td>2100</td>\n",
       "      <td>0.258000</td>\n",
       "      <td>0.461657</td>\n",
       "      <td>0.760648</td>\n",
       "      <td>0.865196</td>\n",
       "      <td>0.758938</td>\n",
       "      <td>0.762499</td>\n",
       "    </tr>\n",
       "    <tr>\n",
       "      <td>2200</td>\n",
       "      <td>0.264000</td>\n",
       "      <td>0.472113</td>\n",
       "      <td>0.758161</td>\n",
       "      <td>0.862439</td>\n",
       "      <td>0.752119</td>\n",
       "      <td>0.764682</td>\n",
       "    </tr>\n",
       "    <tr>\n",
       "      <td>2300</td>\n",
       "      <td>0.279000</td>\n",
       "      <td>0.476553</td>\n",
       "      <td>0.757470</td>\n",
       "      <td>0.860907</td>\n",
       "      <td>0.752099</td>\n",
       "      <td>0.763748</td>\n",
       "    </tr>\n",
       "  </tbody>\n",
       "</table><p>"
      ],
      "text/plain": [
       "<IPython.core.display.HTML object>"
      ]
     },
     "metadata": {},
     "output_type": "display_data"
    }
   ],
   "source": [
    "# Train the model\n",
    "training_logs = trainer.train()\n",
    "trainer.save_model('./distilbert-model')"
   ]
  },
  {
   "cell_type": "markdown",
   "id": "b8ef5c9e",
   "metadata": {},
   "source": [
    "# Evaluation"
   ]
  },
  {
   "cell_type": "code",
   "execution_count": 12,
   "id": "dd4e9696",
   "metadata": {},
   "outputs": [
    {
     "data": {
      "image/png": "[encoded data removed]",
      "text/plain": [
       "<Figure size 640x480 with 1 Axes>"
      ]
     },
     "metadata": {},
     "output_type": "display_data"
    }
   ],
   "source": [
    "# Compute training and validation curve\n",
    "train_loss_list = [log['loss'] for log in trainer.state.log_history if 'loss' in log]\n",
    "eval_loss_list = [log['eval_loss'] for log in trainer.state.log_history if 'eval_loss' in log]\n",
    "step_list = [log['step'] for log in trainer.state.log_history if 'loss' in log]\n",
    "plt.plot(step_list, train_loss_list, label='Training loss')\n",
    "plt.plot(step_list, eval_loss_list, label='Validation loss')\n",
    "plt.xlabel('Logging steps')\n",
    "plt.ylabel('Loss')\n",
    "plt.title('Training and Validation Curves')\n",
    "plt.show()"
   ]
  },
  {
   "cell_type": "code",
   "execution_count": 13,
   "id": "e1d7df18",
   "metadata": {},
   "outputs": [
    {
     "data": {
      "text/html": [],
      "text/plain": [
       "<IPython.core.display.HTML object>"
      ]
     },
     "metadata": {},
     "output_type": "display_data"
    },
    {
     "name": "stdout",
     "output_type": "stream",
     "text": [
      "Test Accuracy: 0.8598798970546182\n"
     ]
    }
   ],
   "source": [
    "# Compute test accuracy\n",
    "test_predictions = trainer.predict(test_dataset)\n",
    "test_predicted_labels = test_predictions.predictions.argmax(axis=1)\n",
    "test_labels = [label_map[emotion] for emotion in test['emotion'].to_list()]\n",
    "test_accuracy = accuracy_score(test_labels, test_predicted_labels)\n",
    "\n",
    "print('Test Accuracy:', test_accuracy)"
   ]
  },
  {
   "cell_type": "code",
   "execution_count": 30,
   "id": "a42a7d07",
   "metadata": {},
   "outputs": [
    {
     "data": {
      "text/html": [],
      "text/plain": [
       "<IPython.core.display.HTML object>"
      ]
     },
     "metadata": {},
     "output_type": "display_data"
    },
    {
     "name": "stdout",
     "output_type": "stream",
     "text": [
      "Successful example:\n",
      "What a god\n",
      "Expected prediction: neutral\n",
      "Actual prediction: neutral\n",
      "\n",
      "Unsuccessful example:\n",
      "gaslighting!!!!! he’s manipulative\n",
      "Expected prediction: neutral\n",
      "Actual prediction: anger\n"
     ]
    }
   ],
   "source": [
    "example_dataset = ClassificationDataset(\n",
    "    test[\"text\"].to_list()[:100],\n",
    "    test[\"emotion\"].to_list()[:100],\n",
    "    label_map\n",
    ")\n",
    "\n",
    "def find_unsuccessful(pred, target):\n",
    "    for i, (a, b) in enumerate(zip(pred, target)):\n",
    "        if a != b:\n",
    "            return i\n",
    "        \n",
    "def find_successful(pred, target):\n",
    "    for i, (a, b) in enumerate(zip(pred, target)):\n",
    "        if a == b:\n",
    "            return i\n",
    "\n",
    "example_predictions = trainer.predict(example_dataset)\n",
    "example_predicted_labels = example_predictions.predictions.argmax(axis=1)\n",
    "example_predicted_labels = [list(label_map.keys())[value] for value in example_predicted_labels]\n",
    "example_labels = test[\"emotion\"].to_list()[:100]\n",
    "\n",
    "unsuccessful_index = find_unsuccessful(example_predicted_labels, example_labels)\n",
    "successful_index = find_successful(example_predicted_labels, example_labels)\n",
    "\n",
    "print(\"Successful example:\")\n",
    "print(test[\"text\"].to_list()[successful_index])\n",
    "print(\"Expected prediction:\", example_labels[successful_index])\n",
    "print(\"Actual prediction:\", example_predicted_labels[successful_index])\n",
    "print(\"\")\n",
    "print(\"Unsuccessful example:\")\n",
    "print(test[\"text\"].to_list()[unsuccessful_index])\n",
    "print(\"Expected prediction:\", example_labels[unsuccessful_index])\n",
    "print(\"Actual prediction:\", example_predicted_labels[unsuccessful_index])"
   ]
  },
  {
   "cell_type": "code",
   "execution_count": 15,
   "id": "b94e4509",
   "metadata": {},
   "outputs": [
    {
     "name": "stdout",
     "output_type": "stream",
     "text": [
      "              precision    recall  f1-score   support\n",
      "\n",
      "     sadness       0.74      0.70      0.72       452\n",
      "     neutral       0.91      0.92      0.91      5263\n",
      "       anger       0.59      0.58      0.59       553\n",
      "        fear       0.71      0.77      0.73       213\n",
      "         joy       0.81      0.73      0.77       513\n",
      "\n",
      "    accuracy                           0.86      6994\n",
      "   macro avg       0.75      0.74      0.74      6994\n",
      "weighted avg       0.86      0.86      0.86      6994\n",
      "\n"
     ]
    }
   ],
   "source": [
    "print(classification_report(test_labels, test_predicted_labels, target_names=emotion, zero_division=0))"
   ]
  },
  {
   "cell_type": "code",
   "execution_count": 16,
   "id": "6a10bd2f",
   "metadata": {},
   "outputs": [
    {
     "data": {
      "image/png": "[encoded data removed]",
      "text/plain": [
       "<Figure size 640x480 with 2 Axes>"
      ]
     },
     "metadata": {},
     "output_type": "display_data"
    }
   ],
   "source": [
    "cm = ConfusionMatrixDisplay(confusion_matrix(test_labels, test_predicted_labels, normalize ='true'), display_labels=emotion)\n",
    "cm.plot()\n",
    "plt.xlabel('Predicted Labels')\n",
    "plt.ylabel('True Labels')\n",
    "plt.title('Confusion Matrix')\n",
    "plt.show()"
   ]
  },
  {
   "cell_type": "code",
   "execution_count": null,
   "id": "c3a856ed",
   "metadata": {},
   "outputs": [],
   "source": []
  }
 ],
 "metadata": {
  "kernelspec": {
   "display_name": "Python 3 (ipykernel)",
   "language": "python",
   "name": "python3"
  },
  "language_info": {
   "codemirror_mode": {
    "name": "ipython",
    "version": 3
   },
   "file_extension": ".py",
   "mimetype": "text/x-python",
   "name": "python",
   "nbconvert_exporter": "python",
   "pygments_lexer": "ipython3",
   "version": "3.9.16"
  },
  "varInspector": {
   "cols": {
    "lenName": 16,
    "lenType": 16,
    "lenVar": 40
   },
   "kernels_config": {
    "python": {
     "delete_cmd_postfix": "",
     "delete_cmd_prefix": "del ",
     "library": "var_list.py",
     "varRefreshCmd": "print(var_dic_list())"
    },
    "r": {
     "delete_cmd_postfix": ") ",
     "delete_cmd_prefix": "rm(",
     "library": "var_list.r",
     "varRefreshCmd": "cat(var_dic_list()) "
    }
   },
   "types_to_exclude": [
    "module",
    "function",
    "builtin_function_or_method",
    "instance",
    "_Feature"
   ],
   "window_display": false
  }
 },
 "nbformat": 4,
 "nbformat_minor": 5
}
