{
 "cells": [
  {
   "cell_type": "code",
   "execution_count": 1,
   "id": "0563a667",
   "metadata": {},
   "outputs": [],
   "source": [
    "import pandas as pd\n",
    "import torch\n",
    "from transformers import DistilBertForSequenceClassification, DistilBertModel, DistilBertTokenizer, DistilBertConfig, EarlyStoppingCallback, TrainingArguments, Trainer\n",
    "from torch.utils.data import Dataset\n",
    "from transformers.data.processors.utils import InputFeatures\n",
    "from sklearn.model_selection import train_test_split\n",
    "from sklearn.metrics import accuracy_score, classification_report, confusion_matrix, f1_score, precision_score, recall_score, ConfusionMatrixDisplay\n",
    "import numpy as np\n",
    "import torch.nn as nn\n",
    "import torch.nn.functional as F\n",
    "import matplotlib.pyplot as plt"
   ]
  },
  {
   "cell_type": "markdown",
   "id": "0c33e1db",
   "metadata": {},
   "source": [
    "# Data spliting"
   ]
  },
  {
   "cell_type": "code",
   "execution_count": 2,
   "id": "e2572c31",
   "metadata": {},
   "outputs": [
    {
     "data": {
      "text/plain": [
       "{'neutral': 0, 'anger': 1, 'fear': 2, 'sadness': 3, 'joy': 4}"
      ]
     },
     "execution_count": 2,
     "metadata": {},
     "output_type": "execute_result"
    }
   ],
   "source": [
    "# Split the data into training, validation, and test sets\n",
    "data = pd.read_csv(\"processed.tsv\", sep='\\t')\n",
    "train, test = train_test_split(data, test_size=0.2, random_state=42, stratify=data['emotion'] )\n",
    "train, val = train_test_split(train, test_size=0.3, random_state=42, stratify=train['emotion'] )\n",
    "\n",
    "emotion = pd.unique(data['emotion'])\n",
    "label_map = { v:i for i, v in enumerate(emotion) }"
   ]
  },
  {
   "cell_type": "code",
   "execution_count": 3,
   "id": "df1d1f40",
   "metadata": {},
   "outputs": [],
   "source": [
    "# Use cuda if it's available\n",
    "if torch.cuda.is_available():      \n",
    "    device = torch.device(\"cuda\")\n",
    "else:\n",
    "    device = torch.device(\"cpu\")"
   ]
  },
  {
   "cell_type": "code",
   "execution_count": 4,
   "id": "d7de60d1",
   "metadata": {},
   "outputs": [],
   "source": [
    "# Preparing dataset for the distilBert model\n",
    "class ClassificationDataset(Dataset):\n",
    "    def __init__(self, text, target, label_map):\n",
    "        super(ClassificationDataset).__init__()\n",
    "        self.text = text\n",
    "        self.target = target\n",
    "        self.tokenizer = DistilBertTokenizer.from_pretrained(\"distilbert-base-uncased\")\n",
    "        self.max_len = 64\n",
    "        self.label_map = label_map\n",
    "      \n",
    "    def __len__(self):\n",
    "        return len(self.text)\n",
    "\n",
    "    def __getitem__(self,item):\n",
    "        text = str(self.text[item])\n",
    "        text = \" \".join(text.split())\n",
    "        \n",
    "        inputs = self.tokenizer(\n",
    "            text,\n",
    "            max_length=self.max_len,\n",
    "            padding='max_length',\n",
    "            truncation=True\n",
    "        )      \n",
    "        return InputFeatures(**inputs,label=self.label_map[self.target[item]])"
   ]
  },
  {
   "cell_type": "code",
   "execution_count": 5,
   "id": "8edf9c3e",
   "metadata": {},
   "outputs": [],
   "source": [
    "train_dataset = ClassificationDataset(\n",
    "    train[\"text\"].to_list(),\n",
    "    train[\"emotion\"].to_list(),\n",
    "    label_map\n",
    ")\n",
    "val_dataset = ClassificationDataset(\n",
    "    val[\"text\"].to_list(),\n",
    "    val[\"emotion\"].to_list(),\n",
    "    label_map\n",
    ")\n",
    "test_dataset = ClassificationDataset(\n",
    "    test[\"text\"].to_list(),\n",
    "    test[\"emotion\"].to_list(),\n",
    "    label_map\n",
    ")"
   ]
  },
  {
   "cell_type": "markdown",
   "id": "071f9939",
   "metadata": {},
   "source": [
    "# Model building"
   ]
  },
  {
   "cell_type": "code",
   "execution_count": 6,
   "id": "354cf688",
   "metadata": {},
   "outputs": [],
   "source": [
    "# Modified version of the focal loss provided by pytorch\n",
    "def softmax_focal_loss_with_regularization(inputs, targets, model, alpha = None, gamma = 2, reduction = \"none\", reg_type: str = \"l2\", reg_weight: float = 1e-3):\n",
    "    ce_loss = F.cross_entropy(inputs, targets, reduction=\"none\")\n",
    "    p = torch.exp(-ce_loss)\n",
    "    loss = ce_loss * ((1 - p) ** gamma)\n",
    "    \n",
    "    # Alpha weighting for different classes\n",
    "    if alpha is not None:\n",
    "        batch_size, num_classes = inputs.size()\n",
    "        class_mask = torch.zeros((batch_size, num_classes), device=inputs.device)\n",
    "        class_mask.scatter_(1, targets.unsqueeze(1), 1.)\n",
    "        alpha_t = torch.sum(alpha.to(inputs.device) * class_mask.to(inputs.device), dim=1)\n",
    "        loss = alpha_t * loss\n",
    "    \n",
    "    # L1/L2 regularization\n",
    "    reg_loss = 0\n",
    "    for param in model.parameters():\n",
    "        if reg_type == \"l1\":\n",
    "            reg_loss += torch.sum(torch.abs(param))\n",
    "        else:\n",
    "            reg_loss += torch.sum(param ** 2)\n",
    "    loss = loss + reg_weight * reg_loss\n",
    "\n",
    "    if reduction == \"none\":\n",
    "        pass\n",
    "    elif reduction == \"mean\":\n",
    "        loss = loss.mean()\n",
    "    elif reduction == \"sum\":\n",
    "        loss = loss.sum()\n",
    "    else:\n",
    "        raise ValueError(f\"Invalid Value for arg 'reduction': '{reduction} \\\\n Supported reduction modes: 'none', 'mean', 'sum'\")\n",
    "    \n",
    "    return loss"
   ]
  },
  {
   "cell_type": "code",
   "execution_count": 7,
   "id": "d685ec5d",
   "metadata": {},
   "outputs": [
    {
     "name": "stderr",
     "output_type": "stream",
     "text": [
      "Some weights of the model checkpoint at distilbert-base-uncased were not used when initializing DistilBertModel: ['vocab_projector.bias', 'vocab_transform.weight', 'vocab_transform.bias', 'vocab_projector.weight', 'vocab_layer_norm.bias', 'vocab_layer_norm.weight']\n",
      "- This IS expected if you are initializing DistilBertModel from the checkpoint of a model trained on another task or with another architecture (e.g. initializing a BertForSequenceClassification model from a BertForPreTraining model).\n",
      "- This IS NOT expected if you are initializing DistilBertModel from the checkpoint of a model that you expect to be exactly identical (initializing a BertForSequenceClassification model from a BertForSequenceClassification model).\n"
     ]
    }
   ],
   "source": [
    "# New model for fine-tuning\n",
    "class CustomSequenceClassificationModel(nn.Module):\n",
    "    def __init__(self):\n",
    "        super().__init__()\n",
    "        self.distilbert = DistilBertModel.from_pretrained('distilbert-base-uncased')\n",
    "        self.pre_classifier = nn.Linear(self.distilbert.config.dim, 128)\n",
    "        self.dropout = nn.Dropout(0.2)\n",
    "        self.classifier1 = nn.Linear(128, 64)\n",
    "        self.classifier2 = nn.Linear(64, 5)\n",
    "\n",
    "    def forward(self, input_ids, attention_mask=None, labels=None):\n",
    "        distilbert_output = self.distilbert(input_ids=input_ids, attention_mask=attention_mask)\n",
    "        hidden_state = distilbert_output[0]\n",
    "        out = hidden_state[:, 0]\n",
    "        out = self.pre_classifier(out)\n",
    "        out = nn.ReLU()(out)\n",
    "        out = self.dropout(out)\n",
    "        out = self.classifier1(out)\n",
    "        out = nn.ReLU()(out)\n",
    "        out = self.dropout(out)\n",
    "        logits = self.classifier2(out)\n",
    "        # Weighted loss\n",
    "        #weights = torch.tensor([0.00045, 0.00321, 0.00321, 0.00321, 0.00321]).to(device)\n",
    "        # Cross-Entropy loss\n",
    "        loss_fct = nn.CrossEntropyLoss()\n",
    "        loss = loss_fct(logits.view(-1, 5), labels.view(-1))\n",
    "        \n",
    "        # L1 regularization\n",
    "        '''\n",
    "        reg_weight = 1e-3\n",
    "        l1_reg = 0\n",
    "        for param in self.parameters():\n",
    "            l1_reg += torch.sum(torch.abs(param))\n",
    "        loss = loss + reg_weight * l1_reg\n",
    "        '''\n",
    "        # Focal loss\n",
    "        '''\n",
    "        alpha = torch.tensor([0.1, 0.4, 0.4, 0.4, 0.4])\n",
    "        loss = softmax_focal_loss_with_regularization(logits.view(-1, 5), labels.view(-1), self, alpha=alpha)\n",
    "        '''\n",
    "        return (loss.mean(), logits)\n",
    "    \n",
    "model = CustomSequenceClassificationModel()\n",
    "# Use the distilBert model from Huggingface\n",
    "#num_labels = 5\n",
    "#model = DistilBertForSequenceClassification.from_pretrained(\"distilbert-base-uncased\", num_labels=num_labels)"
   ]
  },
  {
   "cell_type": "markdown",
   "id": "6da0039b",
   "metadata": {},
   "source": [
    "# Model training"
   ]
  },
  {
   "cell_type": "code",
   "execution_count": 8,
   "id": "0f316646",
   "metadata": {},
   "outputs": [],
   "source": [
    "# Metrics for evaluation\n",
    "def compute_metrics(p): \n",
    "    preds = np.argmax(p.predictions, axis=1)\n",
    "    macro_f1 = f1_score(p.label_ids,preds,average='macro')\n",
    "    precision = precision_score(p.label_ids,preds,average='macro', zero_division=1)\n",
    "    recall = recall_score(p.label_ids,preds,average='macro')\n",
    "    acc = accuracy_score(p.label_ids,preds)\n",
    "    return {       \n",
    "      'macro_f1' : macro_f1,\n",
    "      'Accuracy': acc,\n",
    "      'Precision': precision,\n",
    "      'Recall' : recall,\n",
    "}"
   ]
  },
  {
   "cell_type": "code",
   "execution_count": 9,
   "id": "c8f9f816",
   "metadata": {},
   "outputs": [],
   "source": [
    "# Huggingface trainer config\n",
    "training_args = TrainingArguments( \n",
    "    output_dir= \"./train\",    \n",
    "    adam_epsilon = 1e-8,\n",
    "    learning_rate = 2e-5,\n",
    "    per_device_train_batch_size = 16, # set to 16 due to memory issue\n",
    "    per_device_eval_batch_size = 128,\n",
    "    gradient_accumulation_steps = 2, # use this to scale batch size without needing more memory\n",
    "    num_train_epochs= 4,\n",
    "    evaluation_strategy = 'steps',\n",
    "    save_strategy = 'steps',\n",
    "    load_best_model_at_end = True,\n",
    "    metric_for_best_model = 'macro_f1',\n",
    "    greater_is_better = True,\n",
    "    seed = 42,\n",
    "    weight_decay=0.0001, # Weight decay for regularization\n",
    "    logging_steps=100,\n",
    "  )"
   ]
  },
  {
   "cell_type": "code",
   "execution_count": 10,
   "id": "a271fe9f",
   "metadata": {},
   "outputs": [],
   "source": [
    "# Early stopping to prevent overfitting\n",
    "early_stopping_callback = EarlyStoppingCallback(\n",
    "    early_stopping_patience=3,\n",
    "    early_stopping_threshold=0.01,\n",
    ")\n",
    "\n",
    "# Huggingface Trainer class\n",
    "trainer = Trainer(\n",
    "    model=model,\n",
    "    args=training_args,\n",
    "    train_dataset=train_dataset,\n",
    "    eval_dataset=val_dataset,\n",
    "    compute_metrics=compute_metrics,\n",
    "    #callbacks=[early_stopping_callback]\n",
    ")"
   ]
  },
  {
   "cell_type": "code",
   "execution_count": 11,
   "id": "52c5276d",
   "metadata": {},
   "outputs": [
    {
     "name": "stderr",
     "output_type": "stream",
     "text": [
      "C:\\Users\\13995\\anaconda3\\envs\\Cuda\\lib\\site-packages\\transformers\\optimization.py:391: FutureWarning: This implementation of AdamW is deprecated and will be removed in a future version. Use the PyTorch implementation torch.optim.AdamW instead, or set `no_deprecation_warning=True` to disable this warning\n",
      "  warnings.warn(\n"
     ]
    },
    {
     "data": {
      "text/html": [
       "\n",
       "    <div>\n",
       "      \n",
       "      <progress value='2304' max='2304' style='width:300px; height:20px; vertical-align: middle;'></progress>\n",
       "      [2304/2304 03:25, Epoch 3/4]\n",
       "    </div>\n",
       "    <table border=\"1\" class=\"dataframe\">\n",
       "  <thead>\n",
       " <tr style=\"text-align: left;\">\n",
       "      <th>Step</th>\n",
       "      <th>Training Loss</th>\n",
       "      <th>Validation Loss</th>\n",
       "      <th>Macro F1</th>\n",
       "      <th>Accuracy</th>\n",
       "      <th>Precision</th>\n",
       "      <th>Recall</th>\n",
       "    </tr>\n",
       "  </thead>\n",
       "  <tbody>\n",
       "    <tr>\n",
       "      <td>100</td>\n",
       "      <td>1.316100</td>\n",
       "      <td>1.057888</td>\n",
       "      <td>0.383756</td>\n",
       "      <td>0.645924</td>\n",
       "      <td>0.724492</td>\n",
       "      <td>0.393505</td>\n",
       "    </tr>\n",
       "    <tr>\n",
       "      <td>200</td>\n",
       "      <td>0.964900</td>\n",
       "      <td>0.837493</td>\n",
       "      <td>0.538272</td>\n",
       "      <td>0.729835</td>\n",
       "      <td>0.788424</td>\n",
       "      <td>0.524988</td>\n",
       "    </tr>\n",
       "    <tr>\n",
       "      <td>300</td>\n",
       "      <td>0.857500</td>\n",
       "      <td>0.766841</td>\n",
       "      <td>0.565510</td>\n",
       "      <td>0.747181</td>\n",
       "      <td>0.768038</td>\n",
       "      <td>0.580509</td>\n",
       "    </tr>\n",
       "    <tr>\n",
       "      <td>400</td>\n",
       "      <td>0.734000</td>\n",
       "      <td>0.676806</td>\n",
       "      <td>0.761852</td>\n",
       "      <td>0.794449</td>\n",
       "      <td>0.751593</td>\n",
       "      <td>0.775682</td>\n",
       "    </tr>\n",
       "    <tr>\n",
       "      <td>500</td>\n",
       "      <td>0.702400</td>\n",
       "      <td>0.618727</td>\n",
       "      <td>0.779617</td>\n",
       "      <td>0.813313</td>\n",
       "      <td>0.786104</td>\n",
       "      <td>0.777534</td>\n",
       "    </tr>\n",
       "    <tr>\n",
       "      <td>600</td>\n",
       "      <td>0.612800</td>\n",
       "      <td>0.576973</td>\n",
       "      <td>0.799502</td>\n",
       "      <td>0.829141</td>\n",
       "      <td>0.837878</td>\n",
       "      <td>0.768821</td>\n",
       "    </tr>\n",
       "    <tr>\n",
       "      <td>700</td>\n",
       "      <td>0.539500</td>\n",
       "      <td>0.539112</td>\n",
       "      <td>0.812255</td>\n",
       "      <td>0.835646</td>\n",
       "      <td>0.832436</td>\n",
       "      <td>0.794422</td>\n",
       "    </tr>\n",
       "    <tr>\n",
       "      <td>800</td>\n",
       "      <td>0.513400</td>\n",
       "      <td>0.514290</td>\n",
       "      <td>0.809207</td>\n",
       "      <td>0.837381</td>\n",
       "      <td>0.828558</td>\n",
       "      <td>0.793323</td>\n",
       "    </tr>\n",
       "    <tr>\n",
       "      <td>900</td>\n",
       "      <td>0.496100</td>\n",
       "      <td>0.513188</td>\n",
       "      <td>0.821564</td>\n",
       "      <td>0.845403</td>\n",
       "      <td>0.847683</td>\n",
       "      <td>0.799118</td>\n",
       "    </tr>\n",
       "    <tr>\n",
       "      <td>1000</td>\n",
       "      <td>0.472700</td>\n",
       "      <td>0.490436</td>\n",
       "      <td>0.822318</td>\n",
       "      <td>0.846487</td>\n",
       "      <td>0.834507</td>\n",
       "      <td>0.811297</td>\n",
       "    </tr>\n",
       "    <tr>\n",
       "      <td>1100</td>\n",
       "      <td>0.459700</td>\n",
       "      <td>0.489895</td>\n",
       "      <td>0.826683</td>\n",
       "      <td>0.850173</td>\n",
       "      <td>0.846152</td>\n",
       "      <td>0.810229</td>\n",
       "    </tr>\n",
       "    <tr>\n",
       "      <td>1200</td>\n",
       "      <td>0.399800</td>\n",
       "      <td>0.483855</td>\n",
       "      <td>0.831448</td>\n",
       "      <td>0.852559</td>\n",
       "      <td>0.840686</td>\n",
       "      <td>0.823093</td>\n",
       "    </tr>\n",
       "    <tr>\n",
       "      <td>1300</td>\n",
       "      <td>0.378800</td>\n",
       "      <td>0.478271</td>\n",
       "      <td>0.821450</td>\n",
       "      <td>0.842585</td>\n",
       "      <td>0.805443</td>\n",
       "      <td>0.841058</td>\n",
       "    </tr>\n",
       "    <tr>\n",
       "      <td>1400</td>\n",
       "      <td>0.380100</td>\n",
       "      <td>0.477308</td>\n",
       "      <td>0.834504</td>\n",
       "      <td>0.856245</td>\n",
       "      <td>0.838612</td>\n",
       "      <td>0.831711</td>\n",
       "    </tr>\n",
       "    <tr>\n",
       "      <td>1500</td>\n",
       "      <td>0.345100</td>\n",
       "      <td>0.464698</td>\n",
       "      <td>0.833158</td>\n",
       "      <td>0.857112</td>\n",
       "      <td>0.832930</td>\n",
       "      <td>0.833964</td>\n",
       "    </tr>\n",
       "    <tr>\n",
       "      <td>1600</td>\n",
       "      <td>0.357300</td>\n",
       "      <td>0.465122</td>\n",
       "      <td>0.840942</td>\n",
       "      <td>0.862749</td>\n",
       "      <td>0.848410</td>\n",
       "      <td>0.834407</td>\n",
       "    </tr>\n",
       "    <tr>\n",
       "      <td>1700</td>\n",
       "      <td>0.326500</td>\n",
       "      <td>0.462813</td>\n",
       "      <td>0.837299</td>\n",
       "      <td>0.859280</td>\n",
       "      <td>0.842077</td>\n",
       "      <td>0.833009</td>\n",
       "    </tr>\n",
       "    <tr>\n",
       "      <td>1800</td>\n",
       "      <td>0.299700</td>\n",
       "      <td>0.457903</td>\n",
       "      <td>0.840502</td>\n",
       "      <td>0.861448</td>\n",
       "      <td>0.842424</td>\n",
       "      <td>0.839025</td>\n",
       "    </tr>\n",
       "    <tr>\n",
       "      <td>1900</td>\n",
       "      <td>0.278100</td>\n",
       "      <td>0.458850</td>\n",
       "      <td>0.840616</td>\n",
       "      <td>0.859931</td>\n",
       "      <td>0.837185</td>\n",
       "      <td>0.844853</td>\n",
       "    </tr>\n",
       "    <tr>\n",
       "      <td>2000</td>\n",
       "      <td>0.270900</td>\n",
       "      <td>0.460130</td>\n",
       "      <td>0.843544</td>\n",
       "      <td>0.863617</td>\n",
       "      <td>0.844407</td>\n",
       "      <td>0.842738</td>\n",
       "    </tr>\n",
       "    <tr>\n",
       "      <td>2100</td>\n",
       "      <td>0.295300</td>\n",
       "      <td>0.458621</td>\n",
       "      <td>0.841891</td>\n",
       "      <td>0.861665</td>\n",
       "      <td>0.842223</td>\n",
       "      <td>0.841813</td>\n",
       "    </tr>\n",
       "    <tr>\n",
       "      <td>2200</td>\n",
       "      <td>0.268300</td>\n",
       "      <td>0.459668</td>\n",
       "      <td>0.843563</td>\n",
       "      <td>0.863617</td>\n",
       "      <td>0.846294</td>\n",
       "      <td>0.841187</td>\n",
       "    </tr>\n",
       "    <tr>\n",
       "      <td>2300</td>\n",
       "      <td>0.275100</td>\n",
       "      <td>0.458167</td>\n",
       "      <td>0.844072</td>\n",
       "      <td>0.863833</td>\n",
       "      <td>0.845040</td>\n",
       "      <td>0.843432</td>\n",
       "    </tr>\n",
       "  </tbody>\n",
       "</table><p>"
      ],
      "text/plain": [
       "<IPython.core.display.HTML object>"
      ]
     },
     "metadata": {},
     "output_type": "display_data"
    }
   ],
   "source": [
    "# Train the model\n",
    "training_logs = trainer.train()\n",
    "trainer.save_model('./distilbert-model')"
   ]
  },
  {
   "cell_type": "markdown",
   "id": "c2f210f3",
   "metadata": {},
   "source": [
    "# Evaluation"
   ]
  },
  {
   "cell_type": "code",
   "execution_count": 12,
   "id": "2fd6e45b",
   "metadata": {},
   "outputs": [
    {
     "data": {
      "image/png": "[encoded data removed]",
      "text/plain": [
       "<Figure size 640x480 with 1 Axes>"
      ]
     },
     "metadata": {},
     "output_type": "display_data"
    }
   ],
   "source": [
    "train_loss_list = [log['loss'] for log in trainer.state.log_history if 'loss' in log]\n",
    "eval_loss_list = [log['eval_loss'] for log in trainer.state.log_history if 'eval_loss' in log]\n",
    "step_list = [log['step'] for log in trainer.state.log_history if 'loss' in log]\n",
    "plt.plot(step_list, train_loss_list, label='Training loss')\n",
    "plt.plot(step_list, eval_loss_list, label='Validation loss')\n",
    "plt.xlabel('Logging steps')\n",
    "plt.ylabel('Loss')\n",
    "plt.title('Training and Validation Curves')\n",
    "plt.show()"
   ]
  },
  {
   "cell_type": "code",
   "execution_count": 13,
   "id": "e1d7df18",
   "metadata": {},
   "outputs": [
    {
     "data": {
      "text/html": [],
      "text/plain": [
       "<IPython.core.display.HTML object>"
      ]
     },
     "metadata": {},
     "output_type": "display_data"
    },
    {
     "name": "stdout",
     "output_type": "stream",
     "text": [
      "Test Accuracy: 0.8636166522116219\n"
     ]
    }
   ],
   "source": [
    "test_predictions = trainer.predict(val_dataset)\n",
    "test_predicted_labels = test_predictions.predictions.argmax(axis=1)\n",
    "test_labels = [label_map[emotion] for emotion in val['emotion'].to_list()]\n",
    "test_accuracy = accuracy_score(test_labels, test_predicted_labels)\n",
    "\n",
    "print('Test Accuracy:', test_accuracy)"
   ]
  },
  {
   "cell_type": "code",
   "execution_count": 17,
   "id": "ab8bb0ad",
   "metadata": {},
   "outputs": [
    {
     "data": {
      "text/plain": [
       "InputFeatures(input_ids=[101, 2030, 2149, 2297, 10834, 102, 0, 0, 0, 0, 0, 0, 0, 0, 0, 0, 0, 0, 0, 0, 0, 0, 0, 0, 0, 0, 0, 0, 0, 0, 0, 0, 0, 0, 0, 0, 0, 0, 0, 0, 0, 0, 0, 0, 0, 0, 0, 0, 0, 0, 0, 0, 0, 0, 0, 0, 0, 0, 0, 0, 0, 0, 0, 0], attention_mask=[1, 1, 1, 1, 1, 1, 0, 0, 0, 0, 0, 0, 0, 0, 0, 0, 0, 0, 0, 0, 0, 0, 0, 0, 0, 0, 0, 0, 0, 0, 0, 0, 0, 0, 0, 0, 0, 0, 0, 0, 0, 0, 0, 0, 0, 0, 0, 0, 0, 0, 0, 0, 0, 0, 0, 0, 0, 0, 0, 0, 0, 0, 0, 0], token_type_ids=None, label=0)"
      ]
     },
     "execution_count": 17,
     "metadata": {},
     "output_type": "execute_result"
    }
   ],
   "source": [
    "val_dataset[0]"
   ]
  },
  {
   "cell_type": "code",
   "execution_count": 14,
   "id": "af2322ef",
   "metadata": {},
   "outputs": [
    {
     "name": "stdout",
     "output_type": "stream",
     "text": [
      "              precision    recall  f1-score   support\n",
      "\n",
      "     neutral       0.89      0.89      0.89      2450\n",
      "       anger       0.80      0.81      0.81       708\n",
      "        fear       0.85      0.83      0.84       263\n",
      "     sadness       0.80      0.81      0.81       560\n",
      "         joy       0.87      0.87      0.87       631\n",
      "\n",
      "    accuracy                           0.86      4612\n",
      "   macro avg       0.84      0.84      0.84      4612\n",
      "weighted avg       0.86      0.86      0.86      4612\n",
      "\n"
     ]
    }
   ],
   "source": [
    "print(classification_report(test_labels, test_predicted_labels, target_names=emotion, zero_division=0))"
   ]
  },
  {
   "cell_type": "code",
   "execution_count": 15,
   "id": "7ee48384",
   "metadata": {},
   "outputs": [
    {
     "data": {
      "image/png": "[encoded data removed]",
      "text/plain": [
       "<Figure size 640x480 with 2 Axes>"
      ]
     },
     "metadata": {},
     "output_type": "display_data"
    }
   ],
   "source": [
    "cm = ConfusionMatrixDisplay(confusion_matrix(test_labels, test_predicted_labels, normalize ='true'), display_labels=emotion)\n",
    "cm.plot()\n",
    "plt.xlabel('Predicted Labels')\n",
    "plt.ylabel('True Labels')\n",
    "plt.title('Confusion Matrix')\n",
    "plt.show()"
   ]
  },
  {
   "cell_type": "code",
   "execution_count": null,
   "id": "98aade72",
   "metadata": {},
   "outputs": [],
   "source": []
  }
 ],
 "metadata": {
  "kernelspec": {
   "display_name": "Python 3 (ipykernel)",
   "language": "python",
   "name": "python3"
  },
  "language_info": {
   "codemirror_mode": {
    "name": "ipython",
    "version": 3
   },
   "file_extension": ".py",
   "mimetype": "text/x-python",
   "name": "python",
   "nbconvert_exporter": "python",
   "pygments_lexer": "ipython3",
   "version": "3.9.16"
  },
  "varInspector": {
   "cols": {
    "lenName": 16,
    "lenType": 16,
    "lenVar": 40
   },
   "kernels_config": {
    "python": {
     "delete_cmd_postfix": "",
     "delete_cmd_prefix": "del ",
     "library": "var_list.py",
     "varRefreshCmd": "print(var_dic_list())"
    },
    "r": {
     "delete_cmd_postfix": ") ",
     "delete_cmd_prefix": "rm(",
     "library": "var_list.r",
     "varRefreshCmd": "cat(var_dic_list()) "
    }
   },
   "types_to_exclude": [
    "module",
    "function",
    "builtin_function_or_method",
    "instance",
    "_Feature"
   ],
   "window_display": false
  }
 },
 "nbformat": 4,
 "nbformat_minor": 5
}
